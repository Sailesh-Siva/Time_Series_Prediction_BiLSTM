{
 "cells": [
  {
   "cell_type": "code",
   "execution_count": 11,
   "id": "a849a4a3-ca6c-46ef-864a-c851516ad545",
   "metadata": {},
   "outputs": [],
   "source": [
    "import pandas as pd"
   ]
  },
  {
   "cell_type": "code",
   "execution_count": 12,
   "id": "edc03550-7d28-46f2-a867-c43109566a0f",
   "metadata": {},
   "outputs": [],
   "source": [
    "df = pd.read_csv(\"1000000 Sales Records.csv\")"
   ]
  },
  {
   "cell_type": "code",
   "execution_count": 14,
   "id": "5c3799a8-6a2f-48f7-9a1e-7931fd287891",
   "metadata": {},
   "outputs": [
    {
     "data": {
      "text/plain": [
       "'1/1/2010'"
      ]
     },
     "execution_count": 14,
     "metadata": {},
     "output_type": "execute_result"
    }
   ],
   "source": [
    "df['Order Date'].min()"
   ]
  },
  {
   "cell_type": "code",
   "execution_count": null,
   "id": "a61eccdd-7102-409f-9b1b-1c51e25ca1b5",
   "metadata": {},
   "outputs": [],
   "source": []
  }
 ],
 "metadata": {
  "kernelspec": {
   "display_name": "Python 3 (ipykernel)",
   "language": "python",
   "name": "python3"
  },
  "language_info": {
   "codemirror_mode": {
    "name": "ipython",
    "version": 3
   },
   "file_extension": ".py",
   "mimetype": "text/x-python",
   "name": "python",
   "nbconvert_exporter": "python",
   "pygments_lexer": "ipython3",
   "version": "3.10.16"
  }
 },
 "nbformat": 4,
 "nbformat_minor": 5
}
