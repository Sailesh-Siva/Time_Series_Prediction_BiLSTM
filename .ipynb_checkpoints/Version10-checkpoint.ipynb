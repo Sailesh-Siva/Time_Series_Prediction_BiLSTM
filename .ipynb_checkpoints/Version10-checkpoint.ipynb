{
 "cells": [
  {
   "cell_type": "code",
   "execution_count": 1,
   "id": "bfaab5ff-a101-48be-8ea3-45b266ba9f8d",
   "metadata": {},
   "outputs": [],
   "source": [
    "import numpy as np\n",
    "import pandas as pd\n",
    "import tensorflow as tf\n",
    "from tensorflow.keras.models import Sequential\n",
    "from tensorflow.keras.layers import Dense, Bidirectional, LSTM, Dropout, BatchNormalization\n",
    "from sklearn.preprocessing import MinMaxScaler\n",
    "from sklearn.metrics import mean_absolute_percentage_error, r2_score\n",
    "import matplotlib.pyplot as plt\n",
    "from tensorflow.keras.callbacks import EarlyStopping\n",
    "from sklearn.model_selection import train_test_split\n",
    "import seaborn as sns"
   ]
  },
  {
   "cell_type": "code",
   "execution_count": 2,
   "id": "52ef6fd6-ae70-4fb5-b3bd-8cfc998ed4e3",
   "metadata": {},
   "outputs": [],
   "source": [
    "df = pd.read_csv(\"sales_5000000.csv\")"
   ]
  },
  {
   "cell_type": "code",
   "execution_count": 3,
   "id": "ce61618d-68c4-4208-8e81-dfe9f982424b",
   "metadata": {},
   "outputs": [],
   "source": [
    "df = df[['Order Date', 'Total Profit']] "
   ]
  },
  {
   "cell_type": "code",
   "execution_count": 4,
   "id": "7cb22bf8-45da-4e04-bbb9-b96e03cc80c1",
   "metadata": {},
   "outputs": [],
   "source": [
    "df['Order Date'] = pd.to_datetime(df['Order Date'])"
   ]
  },
  {
   "cell_type": "code",
   "execution_count": 5,
   "id": "6e4d177e-a8cc-4894-a167-c156eab65f06",
   "metadata": {},
   "outputs": [
    {
     "data": {
      "text/html": [
       "<div>\n",
       "<style scoped>\n",
       "    .dataframe tbody tr th:only-of-type {\n",
       "        vertical-align: middle;\n",
       "    }\n",
       "\n",
       "    .dataframe tbody tr th {\n",
       "        vertical-align: top;\n",
       "    }\n",
       "\n",
       "    .dataframe thead th {\n",
       "        text-align: right;\n",
       "    }\n",
       "</style>\n",
       "<table border=\"1\" class=\"dataframe\">\n",
       "  <thead>\n",
       "    <tr style=\"text-align: right;\">\n",
       "      <th></th>\n",
       "      <th>Order Date</th>\n",
       "      <th>Total Profit</th>\n",
       "    </tr>\n",
       "  </thead>\n",
       "  <tbody>\n",
       "    <tr>\n",
       "      <th>0</th>\n",
       "      <td>2020-03-06</td>\n",
       "      <td>303126.25</td>\n",
       "    </tr>\n",
       "    <tr>\n",
       "      <th>1</th>\n",
       "      <td>2014-04-18</td>\n",
       "      <td>146264.40</td>\n",
       "    </tr>\n",
       "    <tr>\n",
       "      <th>2</th>\n",
       "      <td>2019-01-08</td>\n",
       "      <td>9124.77</td>\n",
       "    </tr>\n",
       "    <tr>\n",
       "      <th>3</th>\n",
       "      <td>2018-01-19</td>\n",
       "      <td>77967.96</td>\n",
       "    </tr>\n",
       "    <tr>\n",
       "      <th>4</th>\n",
       "      <td>2023-04-26</td>\n",
       "      <td>622521.93</td>\n",
       "    </tr>\n",
       "    <tr>\n",
       "      <th>...</th>\n",
       "      <td>...</td>\n",
       "      <td>...</td>\n",
       "    </tr>\n",
       "    <tr>\n",
       "      <th>4999995</th>\n",
       "      <td>2018-03-17</td>\n",
       "      <td>809425.32</td>\n",
       "    </tr>\n",
       "    <tr>\n",
       "      <th>4999996</th>\n",
       "      <td>2019-11-08</td>\n",
       "      <td>179722.40</td>\n",
       "    </tr>\n",
       "    <tr>\n",
       "      <th>4999997</th>\n",
       "      <td>2024-06-01</td>\n",
       "      <td>324531.36</td>\n",
       "    </tr>\n",
       "    <tr>\n",
       "      <th>4999998</th>\n",
       "      <td>2024-02-12</td>\n",
       "      <td>49031.34</td>\n",
       "    </tr>\n",
       "    <tr>\n",
       "      <th>4999999</th>\n",
       "      <td>2023-05-11</td>\n",
       "      <td>546536.25</td>\n",
       "    </tr>\n",
       "  </tbody>\n",
       "</table>\n",
       "<p>5000000 rows × 2 columns</p>\n",
       "</div>"
      ],
      "text/plain": [
       "        Order Date  Total Profit\n",
       "0       2020-03-06     303126.25\n",
       "1       2014-04-18     146264.40\n",
       "2       2019-01-08       9124.77\n",
       "3       2018-01-19      77967.96\n",
       "4       2023-04-26     622521.93\n",
       "...            ...           ...\n",
       "4999995 2018-03-17     809425.32\n",
       "4999996 2019-11-08     179722.40\n",
       "4999997 2024-06-01     324531.36\n",
       "4999998 2024-02-12      49031.34\n",
       "4999999 2023-05-11     546536.25\n",
       "\n",
       "[5000000 rows x 2 columns]"
      ]
     },
     "execution_count": 5,
     "metadata": {},
     "output_type": "execute_result"
    }
   ],
   "source": [
    "df"
   ]
  },
  {
   "cell_type": "code",
   "execution_count": 6,
   "id": "0bd58ea5-b3c7-4d8a-b8f8-93362b340c83",
   "metadata": {},
   "outputs": [],
   "source": [
    "daily_df = df.groupby('Order Date')['Total Profit'].sum().reset_index()"
   ]
  },
  {
   "cell_type": "code",
   "execution_count": 7,
   "id": "4a30eba7-f1c3-48c4-8324-7bf9178e05db",
   "metadata": {},
   "outputs": [
    {
     "data": {
      "text/html": [
       "<div>\n",
       "<style scoped>\n",
       "    .dataframe tbody tr th:only-of-type {\n",
       "        vertical-align: middle;\n",
       "    }\n",
       "\n",
       "    .dataframe tbody tr th {\n",
       "        vertical-align: top;\n",
       "    }\n",
       "\n",
       "    .dataframe thead th {\n",
       "        text-align: right;\n",
       "    }\n",
       "</style>\n",
       "<table border=\"1\" class=\"dataframe\">\n",
       "  <thead>\n",
       "    <tr style=\"text-align: right;\">\n",
       "      <th></th>\n",
       "      <th>Order Date</th>\n",
       "      <th>Total Profit</th>\n",
       "    </tr>\n",
       "  </thead>\n",
       "  <tbody>\n",
       "    <tr>\n",
       "      <th>0</th>\n",
       "      <td>2014-01-01</td>\n",
       "      <td>4.846752e+08</td>\n",
       "    </tr>\n",
       "    <tr>\n",
       "      <th>1</th>\n",
       "      <td>2014-01-02</td>\n",
       "      <td>5.044164e+08</td>\n",
       "    </tr>\n",
       "    <tr>\n",
       "      <th>2</th>\n",
       "      <td>2014-01-03</td>\n",
       "      <td>4.926641e+08</td>\n",
       "    </tr>\n",
       "    <tr>\n",
       "      <th>3</th>\n",
       "      <td>2014-01-04</td>\n",
       "      <td>4.877097e+08</td>\n",
       "    </tr>\n",
       "    <tr>\n",
       "      <th>4</th>\n",
       "      <td>2014-01-05</td>\n",
       "      <td>5.005137e+08</td>\n",
       "    </tr>\n",
       "    <tr>\n",
       "      <th>...</th>\n",
       "      <td>...</td>\n",
       "      <td>...</td>\n",
       "    </tr>\n",
       "    <tr>\n",
       "      <th>3901</th>\n",
       "      <td>2024-09-06</td>\n",
       "      <td>4.908773e+08</td>\n",
       "    </tr>\n",
       "    <tr>\n",
       "      <th>3902</th>\n",
       "      <td>2024-09-07</td>\n",
       "      <td>5.344735e+08</td>\n",
       "    </tr>\n",
       "    <tr>\n",
       "      <th>3903</th>\n",
       "      <td>2024-09-08</td>\n",
       "      <td>5.045399e+08</td>\n",
       "    </tr>\n",
       "    <tr>\n",
       "      <th>3904</th>\n",
       "      <td>2024-09-09</td>\n",
       "      <td>5.088379e+08</td>\n",
       "    </tr>\n",
       "    <tr>\n",
       "      <th>3905</th>\n",
       "      <td>2024-09-10</td>\n",
       "      <td>5.068591e+08</td>\n",
       "    </tr>\n",
       "  </tbody>\n",
       "</table>\n",
       "<p>3906 rows × 2 columns</p>\n",
       "</div>"
      ],
      "text/plain": [
       "     Order Date  Total Profit\n",
       "0    2014-01-01  4.846752e+08\n",
       "1    2014-01-02  5.044164e+08\n",
       "2    2014-01-03  4.926641e+08\n",
       "3    2014-01-04  4.877097e+08\n",
       "4    2014-01-05  5.005137e+08\n",
       "...         ...           ...\n",
       "3901 2024-09-06  4.908773e+08\n",
       "3902 2024-09-07  5.344735e+08\n",
       "3903 2024-09-08  5.045399e+08\n",
       "3904 2024-09-09  5.088379e+08\n",
       "3905 2024-09-10  5.068591e+08\n",
       "\n",
       "[3906 rows x 2 columns]"
      ]
     },
     "execution_count": 7,
     "metadata": {},
     "output_type": "execute_result"
    }
   ],
   "source": [
    "daily_df"
   ]
  },
  {
   "cell_type": "code",
   "execution_count": 8,
   "id": "1f997ed8-193a-4b5e-9d2c-a70ade62f28b",
   "metadata": {},
   "outputs": [],
   "source": [
    "monthly_df = daily_df.resample('ME', on='Order Date')['Total Profit'].sum().reset_index()"
   ]
  },
  {
   "cell_type": "code",
   "execution_count": 9,
   "id": "826e692d-82f7-4867-8d71-a789b51d25e4",
   "metadata": {},
   "outputs": [],
   "source": [
    "monthly_df.columns = ['Order Date', 'Total Profit']"
   ]
  },
  {
   "cell_type": "code",
   "execution_count": 10,
   "id": "300d6b95-75c1-4ae3-bb19-7b6c55d2a5d9",
   "metadata": {},
   "outputs": [
    {
     "data": {
      "text/html": [
       "<div>\n",
       "<style scoped>\n",
       "    .dataframe tbody tr th:only-of-type {\n",
       "        vertical-align: middle;\n",
       "    }\n",
       "\n",
       "    .dataframe tbody tr th {\n",
       "        vertical-align: top;\n",
       "    }\n",
       "\n",
       "    .dataframe thead th {\n",
       "        text-align: right;\n",
       "    }\n",
       "</style>\n",
       "<table border=\"1\" class=\"dataframe\">\n",
       "  <thead>\n",
       "    <tr style=\"text-align: right;\">\n",
       "      <th></th>\n",
       "      <th>Order Date</th>\n",
       "      <th>Total Profit</th>\n",
       "    </tr>\n",
       "  </thead>\n",
       "  <tbody>\n",
       "    <tr>\n",
       "      <th>0</th>\n",
       "      <td>2014-01-31</td>\n",
       "      <td>1.556656e+10</td>\n",
       "    </tr>\n",
       "    <tr>\n",
       "      <th>1</th>\n",
       "      <td>2014-02-28</td>\n",
       "      <td>1.402973e+10</td>\n",
       "    </tr>\n",
       "    <tr>\n",
       "      <th>2</th>\n",
       "      <td>2014-03-31</td>\n",
       "      <td>1.556248e+10</td>\n",
       "    </tr>\n",
       "    <tr>\n",
       "      <th>3</th>\n",
       "      <td>2014-04-30</td>\n",
       "      <td>1.510544e+10</td>\n",
       "    </tr>\n",
       "    <tr>\n",
       "      <th>4</th>\n",
       "      <td>2014-05-31</td>\n",
       "      <td>1.559264e+10</td>\n",
       "    </tr>\n",
       "    <tr>\n",
       "      <th>...</th>\n",
       "      <td>...</td>\n",
       "      <td>...</td>\n",
       "    </tr>\n",
       "    <tr>\n",
       "      <th>124</th>\n",
       "      <td>2024-05-31</td>\n",
       "      <td>1.558589e+10</td>\n",
       "    </tr>\n",
       "    <tr>\n",
       "      <th>125</th>\n",
       "      <td>2024-06-30</td>\n",
       "      <td>1.506300e+10</td>\n",
       "    </tr>\n",
       "    <tr>\n",
       "      <th>126</th>\n",
       "      <td>2024-07-31</td>\n",
       "      <td>1.553073e+10</td>\n",
       "    </tr>\n",
       "    <tr>\n",
       "      <th>127</th>\n",
       "      <td>2024-08-31</td>\n",
       "      <td>1.558169e+10</td>\n",
       "    </tr>\n",
       "    <tr>\n",
       "      <th>128</th>\n",
       "      <td>2024-09-30</td>\n",
       "      <td>5.059861e+09</td>\n",
       "    </tr>\n",
       "  </tbody>\n",
       "</table>\n",
       "<p>129 rows × 2 columns</p>\n",
       "</div>"
      ],
      "text/plain": [
       "    Order Date  Total Profit\n",
       "0   2014-01-31  1.556656e+10\n",
       "1   2014-02-28  1.402973e+10\n",
       "2   2014-03-31  1.556248e+10\n",
       "3   2014-04-30  1.510544e+10\n",
       "4   2014-05-31  1.559264e+10\n",
       "..         ...           ...\n",
       "124 2024-05-31  1.558589e+10\n",
       "125 2024-06-30  1.506300e+10\n",
       "126 2024-07-31  1.553073e+10\n",
       "127 2024-08-31  1.558169e+10\n",
       "128 2024-09-30  5.059861e+09\n",
       "\n",
       "[129 rows x 2 columns]"
      ]
     },
     "execution_count": 10,
     "metadata": {},
     "output_type": "execute_result"
    }
   ],
   "source": [
    "monthly_df"
   ]
  },
  {
   "cell_type": "code",
   "execution_count": 11,
   "id": "904d0e43-c803-4fd4-aeec-bd14f2a00daa",
   "metadata": {},
   "outputs": [
    {
     "data": {
      "text/plain": [
       "<Axes: >"
      ]
     },
     "execution_count": 11,
     "metadata": {},
     "output_type": "execute_result"
    },
    {
     "data": {
      "image/png": "[encoded data removed]",
      "text/plain": [
       "<Figure size 640x480 with 1 Axes>"
      ]
     },
     "metadata": {},
     "output_type": "display_data"
    }
   ],
   "source": [
    "sns.boxplot(monthly_df)"
   ]
  },
  {
   "cell_type": "code",
   "execution_count": 12,
   "id": "f5a8e977-3662-4d43-afc5-b6e71a674ac2",
   "metadata": {},
   "outputs": [],
   "source": [
    "Q1 = monthly_df['Total Profit'].quantile(0.25)\n",
    "Q3 = monthly_df['Total Profit'].quantile(0.75)\n",
    "IQR = Q3 - Q1\n",
    "\n",
    "lower_bound = Q1 - 1.5 * IQR\n",
    "upper_bound = Q3 + 1.5 * IQR\n",
    "\n",
    "monthly_df = monthly_df[\n",
    "    (monthly_df['Total Profit'] >= lower_bound) & \n",
    "    (monthly_df['Total Profit'] <= upper_bound)\n",
    "]"
   ]
  },
  {
   "cell_type": "code",
   "execution_count": 13,
   "id": "d6b4ea54-ee47-421e-9989-c9a07c8a3ab2",
   "metadata": {},
   "outputs": [
    {
     "data": {
      "text/plain": [
       "<Axes: >"
      ]
     },
     "execution_count": 13,
     "metadata": {},
     "output_type": "execute_result"
    },
    {
     "data": {
      "image/png": "[encoded data removed]",
      "text/plain": [
       "<Figure size 640x480 with 1 Axes>"
      ]
     },
     "metadata": {},
     "output_type": "display_data"
    }
   ],
   "source": [
    "sns.boxplot(monthly_df)"
   ]
  },
  {
   "cell_type": "code",
   "execution_count": 16,
   "id": "ff58cffe-783f-47e1-b3f4-dce8234f80ca",
   "metadata": {},
   "outputs": [
    {
     "data": {
      "text/html": [
       "<div>\n",
       "<style scoped>\n",
       "    .dataframe tbody tr th:only-of-type {\n",
       "        vertical-align: middle;\n",
       "    }\n",
       "\n",
       "    .dataframe tbody tr th {\n",
       "        vertical-align: top;\n",
       "    }\n",
       "\n",
       "    .dataframe thead th {\n",
       "        text-align: right;\n",
       "    }\n",
       "</style>\n",
       "<table border=\"1\" class=\"dataframe\">\n",
       "  <thead>\n",
       "    <tr style=\"text-align: right;\">\n",
       "      <th></th>\n",
       "      <th>Order Date</th>\n",
       "      <th>Total Profit</th>\n",
       "    </tr>\n",
       "  </thead>\n",
       "  <tbody>\n",
       "    <tr>\n",
       "      <th>0</th>\n",
       "      <td>2014-01-31</td>\n",
       "      <td>155665.595051</td>\n",
       "    </tr>\n",
       "    <tr>\n",
       "      <th>2</th>\n",
       "      <td>2014-03-31</td>\n",
       "      <td>155624.762446</td>\n",
       "    </tr>\n",
       "    <tr>\n",
       "      <th>3</th>\n",
       "      <td>2014-04-30</td>\n",
       "      <td>151054.435884</td>\n",
       "    </tr>\n",
       "    <tr>\n",
       "      <th>4</th>\n",
       "      <td>2014-05-31</td>\n",
       "      <td>155926.374810</td>\n",
       "    </tr>\n",
       "    <tr>\n",
       "      <th>5</th>\n",
       "      <td>2014-06-30</td>\n",
       "      <td>150622.679644</td>\n",
       "    </tr>\n",
       "    <tr>\n",
       "      <th>...</th>\n",
       "      <td>...</td>\n",
       "      <td>...</td>\n",
       "    </tr>\n",
       "    <tr>\n",
       "      <th>123</th>\n",
       "      <td>2024-04-30</td>\n",
       "      <td>150491.208271</td>\n",
       "    </tr>\n",
       "    <tr>\n",
       "      <th>124</th>\n",
       "      <td>2024-05-31</td>\n",
       "      <td>155858.897227</td>\n",
       "    </tr>\n",
       "    <tr>\n",
       "      <th>125</th>\n",
       "      <td>2024-06-30</td>\n",
       "      <td>150630.003085</td>\n",
       "    </tr>\n",
       "    <tr>\n",
       "      <th>126</th>\n",
       "      <td>2024-07-31</td>\n",
       "      <td>155307.297492</td>\n",
       "    </tr>\n",
       "    <tr>\n",
       "      <th>127</th>\n",
       "      <td>2024-08-31</td>\n",
       "      <td>155816.899290</td>\n",
       "    </tr>\n",
       "  </tbody>\n",
       "</table>\n",
       "<p>120 rows × 2 columns</p>\n",
       "</div>"
      ],
      "text/plain": [
       "    Order Date   Total Profit\n",
       "0   2014-01-31  155665.595051\n",
       "2   2014-03-31  155624.762446\n",
       "3   2014-04-30  151054.435884\n",
       "4   2014-05-31  155926.374810\n",
       "5   2014-06-30  150622.679644\n",
       "..         ...            ...\n",
       "123 2024-04-30  150491.208271\n",
       "124 2024-05-31  155858.897227\n",
       "125 2024-06-30  150630.003085\n",
       "126 2024-07-31  155307.297492\n",
       "127 2024-08-31  155816.899290\n",
       "\n",
       "[120 rows x 2 columns]"
      ]
     },
     "execution_count": 16,
     "metadata": {},
     "output_type": "execute_result"
    }
   ],
   "source": [
    "monthly_df"
   ]
  },
  {
   "cell_type": "code",
   "execution_count": 17,
   "id": "968b9e70-193c-481b-8b9a-1a5c608b5d10",
   "metadata": {
    "scrolled": true
   },
   "outputs": [
    {
     "data": {
      "image/png": "[encoded data removed]",
      "text/plain": [
       "<Figure size 640x480 with 1 Axes>"
      ]
     },
     "metadata": {},
     "output_type": "display_data"
    }
   ],
   "source": [
    "plt.plot(monthly_df['Order Date'], monthly_df['Total Profit'])\n",
    "plt.xlabel('Order Date')\n",
    "plt.ylabel('Total Profit')\n",
    "plt.title('Total Profit Over Time')\n",
    "plt.show()"
   ]
  },
  {
   "cell_type": "code",
   "execution_count": 18,
   "id": "473ad95d-d423-4e18-b8cf-56a8b2827ef8",
   "metadata": {},
   "outputs": [],
   "source": [
    "train_data, test_data = train_test_split(monthly_df, test_size=0.2, shuffle=False)"
   ]
  },
  {
   "cell_type": "code",
   "execution_count": 19,
   "id": "0299ab2b-8f96-43b1-9de1-daada82ccb86",
   "metadata": {},
   "outputs": [],
   "source": [
    "scaler = MinMaxScaler()\n",
    "train_data[\"Total Profit\"] = scaler.fit_transform(train_data[[\"Total Profit\"]])\n",
    "test_data[\"Total Profit\"] = scaler.transform(test_data[[\"Total Profit\"]])"
   ]
  },
  {
   "cell_type": "code",
   "execution_count": 20,
   "id": "5360a320-e595-455c-831c-b4e5844a665f",
   "metadata": {},
   "outputs": [
    {
     "data": {
      "text/html": [
       "<div>\n",
       "<style scoped>\n",
       "    .dataframe tbody tr th:only-of-type {\n",
       "        vertical-align: middle;\n",
       "    }\n",
       "\n",
       "    .dataframe tbody tr th {\n",
       "        vertical-align: top;\n",
       "    }\n",
       "\n",
       "    .dataframe thead th {\n",
       "        text-align: right;\n",
       "    }\n",
       "</style>\n",
       "<table border=\"1\" class=\"dataframe\">\n",
       "  <thead>\n",
       "    <tr style=\"text-align: right;\">\n",
       "      <th></th>\n",
       "      <th>Order Date</th>\n",
       "      <th>Total Profit</th>\n",
       "    </tr>\n",
       "  </thead>\n",
       "  <tbody>\n",
       "    <tr>\n",
       "      <th>0</th>\n",
       "      <td>2014-01-31</td>\n",
       "      <td>0.876380</td>\n",
       "    </tr>\n",
       "    <tr>\n",
       "      <th>2</th>\n",
       "      <td>2014-03-31</td>\n",
       "      <td>0.872737</td>\n",
       "    </tr>\n",
       "    <tr>\n",
       "      <th>3</th>\n",
       "      <td>2014-04-30</td>\n",
       "      <td>0.464943</td>\n",
       "    </tr>\n",
       "    <tr>\n",
       "      <th>4</th>\n",
       "      <td>2014-05-31</td>\n",
       "      <td>0.899649</td>\n",
       "    </tr>\n",
       "    <tr>\n",
       "      <th>5</th>\n",
       "      <td>2014-06-30</td>\n",
       "      <td>0.426418</td>\n",
       "    </tr>\n",
       "    <tr>\n",
       "      <th>...</th>\n",
       "      <td>...</td>\n",
       "      <td>...</td>\n",
       "    </tr>\n",
       "    <tr>\n",
       "      <th>98</th>\n",
       "      <td>2022-03-31</td>\n",
       "      <td>0.884553</td>\n",
       "    </tr>\n",
       "    <tr>\n",
       "      <th>99</th>\n",
       "      <td>2022-04-30</td>\n",
       "      <td>0.448967</td>\n",
       "    </tr>\n",
       "    <tr>\n",
       "      <th>100</th>\n",
       "      <td>2022-05-31</td>\n",
       "      <td>0.955353</td>\n",
       "    </tr>\n",
       "    <tr>\n",
       "      <th>101</th>\n",
       "      <td>2022-06-30</td>\n",
       "      <td>0.428534</td>\n",
       "    </tr>\n",
       "    <tr>\n",
       "      <th>102</th>\n",
       "      <td>2022-07-31</td>\n",
       "      <td>0.887719</td>\n",
       "    </tr>\n",
       "  </tbody>\n",
       "</table>\n",
       "<p>96 rows × 2 columns</p>\n",
       "</div>"
      ],
      "text/plain": [
       "    Order Date  Total Profit\n",
       "0   2014-01-31      0.876380\n",
       "2   2014-03-31      0.872737\n",
       "3   2014-04-30      0.464943\n",
       "4   2014-05-31      0.899649\n",
       "5   2014-06-30      0.426418\n",
       "..         ...           ...\n",
       "98  2022-03-31      0.884553\n",
       "99  2022-04-30      0.448967\n",
       "100 2022-05-31      0.955353\n",
       "101 2022-06-30      0.428534\n",
       "102 2022-07-31      0.887719\n",
       "\n",
       "[96 rows x 2 columns]"
      ]
     },
     "execution_count": 20,
     "metadata": {},
     "output_type": "execute_result"
    }
   ],
   "source": [
    "train_data"
   ]
  },
  {
   "cell_type": "code",
   "execution_count": 21,
   "id": "aaf52432-fd26-4000-8407-a0873dbfa7ce",
   "metadata": {},
   "outputs": [
    {
     "data": {
      "text/html": [
       "<div>\n",
       "<style scoped>\n",
       "    .dataframe tbody tr th:only-of-type {\n",
       "        vertical-align: middle;\n",
       "    }\n",
       "\n",
       "    .dataframe tbody tr th {\n",
       "        vertical-align: top;\n",
       "    }\n",
       "\n",
       "    .dataframe thead th {\n",
       "        text-align: right;\n",
       "    }\n",
       "</style>\n",
       "<table border=\"1\" class=\"dataframe\">\n",
       "  <thead>\n",
       "    <tr style=\"text-align: right;\">\n",
       "      <th></th>\n",
       "      <th>Order Date</th>\n",
       "      <th>Total Profit</th>\n",
       "    </tr>\n",
       "  </thead>\n",
       "  <tbody>\n",
       "    <tr>\n",
       "      <th>103</th>\n",
       "      <td>2022-08-31</td>\n",
       "      <td>0.923518</td>\n",
       "    </tr>\n",
       "    <tr>\n",
       "      <th>104</th>\n",
       "      <td>2022-09-30</td>\n",
       "      <td>0.437264</td>\n",
       "    </tr>\n",
       "    <tr>\n",
       "      <th>105</th>\n",
       "      <td>2022-10-31</td>\n",
       "      <td>0.921239</td>\n",
       "    </tr>\n",
       "    <tr>\n",
       "      <th>106</th>\n",
       "      <td>2022-11-30</td>\n",
       "      <td>0.459735</td>\n",
       "    </tr>\n",
       "    <tr>\n",
       "      <th>107</th>\n",
       "      <td>2022-12-31</td>\n",
       "      <td>0.924262</td>\n",
       "    </tr>\n",
       "    <tr>\n",
       "      <th>108</th>\n",
       "      <td>2023-01-31</td>\n",
       "      <td>0.899601</td>\n",
       "    </tr>\n",
       "    <tr>\n",
       "      <th>110</th>\n",
       "      <td>2023-03-31</td>\n",
       "      <td>0.868539</td>\n",
       "    </tr>\n",
       "    <tr>\n",
       "      <th>111</th>\n",
       "      <td>2023-04-30</td>\n",
       "      <td>0.478007</td>\n",
       "    </tr>\n",
       "    <tr>\n",
       "      <th>112</th>\n",
       "      <td>2023-05-31</td>\n",
       "      <td>0.855677</td>\n",
       "    </tr>\n",
       "    <tr>\n",
       "      <th>113</th>\n",
       "      <td>2023-06-30</td>\n",
       "      <td>0.419123</td>\n",
       "    </tr>\n",
       "    <tr>\n",
       "      <th>114</th>\n",
       "      <td>2023-07-31</td>\n",
       "      <td>0.951753</td>\n",
       "    </tr>\n",
       "    <tr>\n",
       "      <th>115</th>\n",
       "      <td>2023-08-31</td>\n",
       "      <td>0.868580</td>\n",
       "    </tr>\n",
       "    <tr>\n",
       "      <th>116</th>\n",
       "      <td>2023-09-30</td>\n",
       "      <td>0.426309</td>\n",
       "    </tr>\n",
       "    <tr>\n",
       "      <th>117</th>\n",
       "      <td>2023-10-31</td>\n",
       "      <td>0.904586</td>\n",
       "    </tr>\n",
       "    <tr>\n",
       "      <th>118</th>\n",
       "      <td>2023-11-30</td>\n",
       "      <td>0.427402</td>\n",
       "    </tr>\n",
       "    <tr>\n",
       "      <th>119</th>\n",
       "      <td>2023-12-31</td>\n",
       "      <td>0.930405</td>\n",
       "    </tr>\n",
       "    <tr>\n",
       "      <th>120</th>\n",
       "      <td>2024-01-31</td>\n",
       "      <td>0.892282</td>\n",
       "    </tr>\n",
       "    <tr>\n",
       "      <th>121</th>\n",
       "      <td>2024-02-29</td>\n",
       "      <td>-0.081328</td>\n",
       "    </tr>\n",
       "    <tr>\n",
       "      <th>122</th>\n",
       "      <td>2024-03-31</td>\n",
       "      <td>0.879935</td>\n",
       "    </tr>\n",
       "    <tr>\n",
       "      <th>123</th>\n",
       "      <td>2024-04-30</td>\n",
       "      <td>0.414688</td>\n",
       "    </tr>\n",
       "    <tr>\n",
       "      <th>124</th>\n",
       "      <td>2024-05-31</td>\n",
       "      <td>0.893628</td>\n",
       "    </tr>\n",
       "    <tr>\n",
       "      <th>125</th>\n",
       "      <td>2024-06-30</td>\n",
       "      <td>0.427072</td>\n",
       "    </tr>\n",
       "    <tr>\n",
       "      <th>126</th>\n",
       "      <td>2024-07-31</td>\n",
       "      <td>0.844411</td>\n",
       "    </tr>\n",
       "    <tr>\n",
       "      <th>127</th>\n",
       "      <td>2024-08-31</td>\n",
       "      <td>0.889880</td>\n",
       "    </tr>\n",
       "  </tbody>\n",
       "</table>\n",
       "</div>"
      ],
      "text/plain": [
       "    Order Date  Total Profit\n",
       "103 2022-08-31      0.923518\n",
       "104 2022-09-30      0.437264\n",
       "105 2022-10-31      0.921239\n",
       "106 2022-11-30      0.459735\n",
       "107 2022-12-31      0.924262\n",
       "108 2023-01-31      0.899601\n",
       "110 2023-03-31      0.868539\n",
       "111 2023-04-30      0.478007\n",
       "112 2023-05-31      0.855677\n",
       "113 2023-06-30      0.419123\n",
       "114 2023-07-31      0.951753\n",
       "115 2023-08-31      0.868580\n",
       "116 2023-09-30      0.426309\n",
       "117 2023-10-31      0.904586\n",
       "118 2023-11-30      0.427402\n",
       "119 2023-12-31      0.930405\n",
       "120 2024-01-31      0.892282\n",
       "121 2024-02-29     -0.081328\n",
       "122 2024-03-31      0.879935\n",
       "123 2024-04-30      0.414688\n",
       "124 2024-05-31      0.893628\n",
       "125 2024-06-30      0.427072\n",
       "126 2024-07-31      0.844411\n",
       "127 2024-08-31      0.889880"
      ]
     },
     "execution_count": 21,
     "metadata": {},
     "output_type": "execute_result"
    }
   ],
   "source": [
    "test_data"
   ]
  },
  {
   "cell_type": "code",
   "execution_count": 22,
   "id": "9294cd91-1d4c-4632-8f1a-07c58e8ff75f",
   "metadata": {},
   "outputs": [],
   "source": [
    "def create_sequences(data, seq_length):\n",
    "    X, y = [], []\n",
    "    for i in range(len(data) - seq_length):\n",
    "        X.append(data[i:i+seq_length])\n",
    "        y.append(data[i+seq_length])\n",
    "    return np.array(X), np.array(y)\n",
    "\n",
    "seq_length = 12\n",
    "\n",
    "values_train = train_data[\"Total Profit\"].values\n",
    "values_test = test_data[\"Total Profit\"].values\n",
    "\n",
    "X_train, y_train = create_sequences(values_train, seq_length)\n",
    "X_test, y_test = create_sequences(values_test, seq_length)\n",
    "\n",
    "X_train = X_train.reshape((X_train.shape[0], X_train.shape[1], 1))\n",
    "X_test = X_test.reshape((X_test.shape[0], X_test.shape[1], 1))\n"
   ]
  },
  {
   "cell_type": "code",
   "execution_count": 23,
   "id": "5e9b2f51-1cbe-45a3-95a4-ec9c6d1ec1b3",
   "metadata": {},
   "outputs": [
    {
     "data": {
      "text/plain": [
       "(84, 12, 1)"
      ]
     },
     "execution_count": 23,
     "metadata": {},
     "output_type": "execute_result"
    }
   ],
   "source": [
    "X_train.shape"
   ]
  },
  {
   "cell_type": "code",
   "execution_count": 24,
   "id": "733539c4-3482-435d-8101-4083c79a94fa",
   "metadata": {},
   "outputs": [
    {
     "data": {
      "text/plain": [
       "(84,)"
      ]
     },
     "execution_count": 24,
     "metadata": {},
     "output_type": "execute_result"
    }
   ],
   "source": [
    "y_train.shape"
   ]
  },
  {
   "cell_type": "code",
   "execution_count": 25,
   "id": "5e8e9b17-33ef-42cb-96ec-ed05f73f6318",
   "metadata": {
    "scrolled": true
   },
   "outputs": [
    {
     "name": "stdout",
     "output_type": "stream",
     "text": [
      "Epoch 1/50\n",
      "6/6 [==============================] - 9s 320ms/step - loss: 1.4139 - mae: 1.1519 - rmse: 1.3299 - val_loss: 0.6632 - val_mae: 0.6114 - val_rmse: 0.6632\n",
      "Epoch 2/50\n",
      "6/6 [==============================] - 0s 35ms/step - loss: 1.2226 - mae: 0.9637 - rmse: 1.2483 - val_loss: 0.6075 - val_mae: 0.5582 - val_rmse: 0.6075\n",
      "Epoch 3/50\n",
      "6/6 [==============================] - 0s 31ms/step - loss: 1.1734 - mae: 0.9326 - rmse: 1.1344 - val_loss: 0.5611 - val_mae: 0.5127 - val_rmse: 0.5611\n",
      "Epoch 4/50\n",
      "6/6 [==============================] - 0s 32ms/step - loss: 0.9644 - mae: 0.7921 - rmse: 0.9130 - val_loss: 0.5300 - val_mae: 0.4811 - val_rmse: 0.5300\n",
      "Epoch 5/50\n",
      "6/6 [==============================] - 0s 31ms/step - loss: 0.8683 - mae: 0.6979 - rmse: 0.8566 - val_loss: 0.5290 - val_mae: 0.4800 - val_rmse: 0.5290\n",
      "Epoch 6/50\n",
      "6/6 [==============================] - 0s 30ms/step - loss: 0.8570 - mae: 0.6885 - rmse: 0.8108 - val_loss: 0.5593 - val_mae: 0.5106 - val_rmse: 0.5593\n",
      "Epoch 7/50\n",
      "6/6 [==============================] - 0s 29ms/step - loss: 0.7563 - mae: 0.5836 - rmse: 0.7514 - val_loss: 0.5920 - val_mae: 0.5427 - val_rmse: 0.5920\n",
      "Epoch 8/50\n",
      "6/6 [==============================] - 0s 29ms/step - loss: 0.8097 - mae: 0.6957 - rmse: 0.8055 - val_loss: 0.6098 - val_mae: 0.5601 - val_rmse: 0.6098\n",
      "Epoch 9/50\n",
      "6/6 [==============================] - 0s 31ms/step - loss: 0.8077 - mae: 0.6655 - rmse: 0.8289 - val_loss: 0.6126 - val_mae: 0.5628 - val_rmse: 0.6126\n",
      "Epoch 10/50\n",
      "6/6 [==============================] - 0s 31ms/step - loss: 0.7071 - mae: 0.5737 - rmse: 0.6770 - val_loss: 0.6045 - val_mae: 0.5551 - val_rmse: 0.6045\n",
      "Epoch 11/50\n",
      "6/6 [==============================] - 0s 31ms/step - loss: 0.6145 - mae: 0.4879 - rmse: 0.6524 - val_loss: 0.5908 - val_mae: 0.5418 - val_rmse: 0.5908\n",
      "Epoch 12/50\n",
      "6/6 [==============================] - 0s 28ms/step - loss: 0.7692 - mae: 0.6272 - rmse: 0.7433 - val_loss: 0.5846 - val_mae: 0.5356 - val_rmse: 0.5846\n",
      "Epoch 13/50\n",
      "6/6 [==============================] - 0s 31ms/step - loss: 0.5909 - mae: 0.4651 - rmse: 0.5787 - val_loss: 0.5811 - val_mae: 0.5321 - val_rmse: 0.5811\n",
      "Epoch 14/50\n",
      "6/6 [==============================] - 0s 32ms/step - loss: 0.6427 - mae: 0.5016 - rmse: 0.6035 - val_loss: 0.5875 - val_mae: 0.5387 - val_rmse: 0.5875\n",
      "Epoch 15/50\n",
      "6/6 [==============================] - 0s 29ms/step - loss: 0.6336 - mae: 0.5000 - rmse: 0.5882 - val_loss: 0.5903 - val_mae: 0.5413 - val_rmse: 0.5903\n",
      "Epoch 16/50\n",
      "6/6 [==============================] - 0s 28ms/step - loss: 0.5240 - mae: 0.4147 - rmse: 0.4971 - val_loss: 0.5947 - val_mae: 0.5463 - val_rmse: 0.5947\n",
      "Epoch 17/50\n",
      "6/6 [==============================] - 0s 30ms/step - loss: 0.6232 - mae: 0.4830 - rmse: 0.5867 - val_loss: 0.5806 - val_mae: 0.5327 - val_rmse: 0.5806\n",
      "Epoch 18/50\n",
      "6/6 [==============================] - 0s 28ms/step - loss: 0.6051 - mae: 0.4715 - rmse: 0.5845 - val_loss: 0.5762 - val_mae: 0.5276 - val_rmse: 0.5762\n",
      "Epoch 19/50\n",
      "6/6 [==============================] - 0s 26ms/step - loss: 0.5530 - mae: 0.4296 - rmse: 0.5200 - val_loss: 0.5736 - val_mae: 0.5250 - val_rmse: 0.5736\n",
      "Epoch 20/50\n",
      "6/6 [==============================] - 0s 30ms/step - loss: 0.5607 - mae: 0.4474 - rmse: 0.5203 - val_loss: 0.5753 - val_mae: 0.5264 - val_rmse: 0.5753\n",
      "Epoch 21/50\n",
      "6/6 [==============================] - 0s 27ms/step - loss: 0.5359 - mae: 0.4258 - rmse: 0.5449 - val_loss: 0.5560 - val_mae: 0.5081 - val_rmse: 0.5560\n",
      "Epoch 22/50\n",
      "6/6 [==============================] - 0s 29ms/step - loss: 0.4941 - mae: 0.4029 - rmse: 0.5094 - val_loss: 0.5284 - val_mae: 0.4802 - val_rmse: 0.5284\n",
      "Epoch 23/50\n",
      "6/6 [==============================] - 0s 27ms/step - loss: 0.5336 - mae: 0.4385 - rmse: 0.4901 - val_loss: 0.5110 - val_mae: 0.4618 - val_rmse: 0.5110\n",
      "Epoch 24/50\n",
      "6/6 [==============================] - 0s 29ms/step - loss: 0.5272 - mae: 0.4207 - rmse: 0.4942 - val_loss: 0.5112 - val_mae: 0.4620 - val_rmse: 0.5112\n",
      "Epoch 25/50\n",
      "6/6 [==============================] - 0s 30ms/step - loss: 0.4864 - mae: 0.3947 - rmse: 0.5025 - val_loss: 0.5094 - val_mae: 0.4595 - val_rmse: 0.5094\n",
      "Epoch 26/50\n",
      "6/6 [==============================] - 0s 31ms/step - loss: 0.4992 - mae: 0.4079 - rmse: 0.4702 - val_loss: 0.4925 - val_mae: 0.4400 - val_rmse: 0.4925\n",
      "Epoch 27/50\n",
      "6/6 [==============================] - 0s 30ms/step - loss: 0.5805 - mae: 0.4710 - rmse: 0.5712 - val_loss: 0.4676 - val_mae: 0.4129 - val_rmse: 0.4676\n",
      "Epoch 28/50\n",
      "6/6 [==============================] - 0s 28ms/step - loss: 0.5274 - mae: 0.4247 - rmse: 0.5289 - val_loss: 0.4406 - val_mae: 0.3827 - val_rmse: 0.4406\n",
      "Epoch 29/50\n",
      "6/6 [==============================] - 0s 28ms/step - loss: 0.5048 - mae: 0.4113 - rmse: 0.4684 - val_loss: 0.4285 - val_mae: 0.3687 - val_rmse: 0.4285\n",
      "Epoch 30/50\n",
      "6/6 [==============================] - 0s 30ms/step - loss: 0.5686 - mae: 0.4425 - rmse: 0.5454 - val_loss: 0.4250 - val_mae: 0.3647 - val_rmse: 0.4250\n",
      "Epoch 31/50\n",
      "6/6 [==============================] - 0s 28ms/step - loss: 0.4814 - mae: 0.4072 - rmse: 0.4747 - val_loss: 0.4102 - val_mae: 0.3463 - val_rmse: 0.4102\n",
      "Epoch 32/50\n",
      "6/6 [==============================] - 0s 32ms/step - loss: 0.4366 - mae: 0.3704 - rmse: 0.4357 - val_loss: 0.4070 - val_mae: 0.3445 - val_rmse: 0.4070\n",
      "Epoch 33/50\n",
      "6/6 [==============================] - 0s 29ms/step - loss: 0.5019 - mae: 0.4099 - rmse: 0.4914 - val_loss: 0.3788 - val_mae: 0.3219 - val_rmse: 0.3788\n",
      "Epoch 34/50\n",
      "6/6 [==============================] - 0s 28ms/step - loss: 0.4906 - mae: 0.3937 - rmse: 0.4768 - val_loss: 0.3492 - val_mae: 0.2958 - val_rmse: 0.3492\n",
      "Epoch 35/50\n",
      "6/6 [==============================] - 0s 29ms/step - loss: 0.5817 - mae: 0.4784 - rmse: 0.5635 - val_loss: 0.3376 - val_mae: 0.2863 - val_rmse: 0.3376\n",
      "Epoch 36/50\n",
      "6/6 [==============================] - 0s 26ms/step - loss: 0.4873 - mae: 0.3980 - rmse: 0.4701 - val_loss: 0.3585 - val_mae: 0.3037 - val_rmse: 0.3585\n",
      "Epoch 37/50\n",
      "6/6 [==============================] - 0s 30ms/step - loss: 0.4996 - mae: 0.3927 - rmse: 0.4737 - val_loss: 0.3810 - val_mae: 0.3245 - val_rmse: 0.3810\n",
      "Epoch 38/50\n",
      "6/6 [==============================] - 0s 30ms/step - loss: 0.4632 - mae: 0.3836 - rmse: 0.4814 - val_loss: 0.3887 - val_mae: 0.3324 - val_rmse: 0.3887\n",
      "Epoch 39/50\n",
      "6/6 [==============================] - 0s 27ms/step - loss: 0.4626 - mae: 0.3810 - rmse: 0.5237 - val_loss: 0.3587 - val_mae: 0.3078 - val_rmse: 0.3587\n",
      "Epoch 40/50\n",
      "6/6 [==============================] - 0s 29ms/step - loss: 0.4628 - mae: 0.3506 - rmse: 0.4737 - val_loss: 0.3236 - val_mae: 0.2720 - val_rmse: 0.3236\n",
      "Epoch 41/50\n",
      "6/6 [==============================] - 0s 34ms/step - loss: 0.4121 - mae: 0.3393 - rmse: 0.4123 - val_loss: 0.3059 - val_mae: 0.2589 - val_rmse: 0.3059\n",
      "Epoch 42/50\n",
      "6/6 [==============================] - 0s 27ms/step - loss: 0.4750 - mae: 0.3882 - rmse: 0.4690 - val_loss: 0.2984 - val_mae: 0.2523 - val_rmse: 0.2984\n",
      "Epoch 43/50\n",
      "6/6 [==============================] - 0s 32ms/step - loss: 0.4092 - mae: 0.3312 - rmse: 0.4177 - val_loss: 0.2955 - val_mae: 0.2494 - val_rmse: 0.2955\n",
      "Epoch 44/50\n",
      "6/6 [==============================] - 0s 27ms/step - loss: 0.4715 - mae: 0.3729 - rmse: 0.4805 - val_loss: 0.3056 - val_mae: 0.2558 - val_rmse: 0.3056\n",
      "Epoch 45/50\n",
      "6/6 [==============================] - 0s 30ms/step - loss: 0.4673 - mae: 0.3831 - rmse: 0.4438 - val_loss: 0.3084 - val_mae: 0.2582 - val_rmse: 0.3084\n",
      "Epoch 46/50\n",
      "6/6 [==============================] - 0s 26ms/step - loss: 0.4244 - mae: 0.3471 - rmse: 0.3936 - val_loss: 0.3508 - val_mae: 0.3027 - val_rmse: 0.3508\n",
      "Epoch 47/50\n",
      "6/6 [==============================] - 0s 29ms/step - loss: 0.4447 - mae: 0.3775 - rmse: 0.4584 - val_loss: 0.3829 - val_mae: 0.3298 - val_rmse: 0.3829\n",
      "Epoch 48/50\n",
      "6/6 [==============================] - 0s 29ms/step - loss: 0.4477 - mae: 0.3459 - rmse: 0.4579 - val_loss: 0.3655 - val_mae: 0.3168 - val_rmse: 0.3655\n",
      "Epoch 49/50\n",
      "6/6 [==============================] - 0s 31ms/step - loss: 0.3874 - mae: 0.3113 - rmse: 0.3715 - val_loss: 0.3620 - val_mae: 0.3092 - val_rmse: 0.3620\n",
      "Epoch 50/50\n",
      "6/6 [==============================] - 0s 29ms/step - loss: 0.4139 - mae: 0.3373 - rmse: 0.4109 - val_loss: 0.3277 - val_mae: 0.2758 - val_rmse: 0.3277\n"
     ]
    }
   ],
   "source": [
    "model = Sequential([\n",
    "    Bidirectional(LSTM(100, return_sequences=True), input_shape=(seq_length, 1)),\n",
    "    BatchNormalization(),\n",
    "    Dropout(0.3),\n",
    "    Bidirectional(LSTM(100, return_sequences=True)),\n",
    "    BatchNormalization(),\n",
    "    Dropout(0.3),\n",
    "    Bidirectional(LSTM(50)),\n",
    "    BatchNormalization(),\n",
    "    Dropout(0.3),\n",
    "    Dense(50, activation='relu'),\n",
    "    Dense(1)\n",
    "])\n",
    "\n",
    "def rmse(y_true, y_pred):\n",
    "    return tf.sqrt(tf.reduce_mean(tf.square(y_true - y_pred)))\n",
    "\n",
    "model.compile(optimizer='adam', loss=rmse, metrics=['mae', rmse])\n",
    "\n",
    "early_stopping = EarlyStopping(monitor='val_loss', patience=100, restore_best_weights=True)\n",
    "\n",
    "history = model.fit(X_train, y_train, epochs=50, batch_size=16, validation_data=(X_test, y_test), callbacks=[early_stopping])"
   ]
  },
  {
   "cell_type": "code",
   "execution_count": 26,
   "id": "a65c1527-3cf4-48a0-9b8d-3cbb365adbe7",
   "metadata": {},
   "outputs": [
    {
     "name": "stdout",
     "output_type": "stream",
     "text": [
      "1/1 [==============================] - 1s 1s/step\n",
      "MAPA (Accuracy): 97.99%\n"
     ]
    }
   ],
   "source": [
    "y_pred = model.predict(X_test)\n",
    "\n",
    "y_test_inv = scaler.inverse_transform(y_test.reshape(-1, 1))\n",
    "y_pred_inv = scaler.inverse_transform(y_pred)\n",
    "\n",
    "mape = mean_absolute_percentage_error(y_test_inv, y_pred_inv) * 100\n",
    "mapa = (1 - mape / 100) * 100\n",
    "print(f\"MAPA (Accuracy): {mapa:.2f}%\")"
   ]
  },
  {
   "cell_type": "code",
   "execution_count": 53,
   "id": "e27a34f0-8eef-4a52-ac96-76d1ed89cfe4",
   "metadata": {},
   "outputs": [
    {
     "data": {
      "text/plain": [
       "(12, 12, 1)"
      ]
     },
     "execution_count": 53,
     "metadata": {},
     "output_type": "execute_result"
    }
   ],
   "source": [
    "X_test.shape"
   ]
  },
  {
   "cell_type": "code",
   "execution_count": 54,
   "id": "f7f97937-47e9-4a46-a67f-a06b4dece2ce",
   "metadata": {},
   "outputs": [],
   "source": [
    "squeezed_data = np.squeeze(X_test)  # Shape becomes (84, 12)"
   ]
  },
  {
   "cell_type": "code",
   "execution_count": 56,
   "id": "8e443a58-6dce-494f-96ca-0ec821fc8ca7",
   "metadata": {
    "scrolled": true
   },
   "outputs": [
    {
     "data": {
      "text/plain": [
       "array([[ 0.92351784,  0.43726372,  0.92123851,  0.45973539,  0.9242623 ,\n",
       "         0.8996011 ,  0.86853922,  0.47800687,  0.855677  ,  0.41912329,\n",
       "         0.95175254,  0.86857989],\n",
       "       [ 0.43726372,  0.92123851,  0.45973539,  0.9242623 ,  0.8996011 ,\n",
       "         0.86853922,  0.47800687,  0.855677  ,  0.41912329,  0.95175254,\n",
       "         0.86857989,  0.42630913],\n",
       "       [ 0.92123851,  0.45973539,  0.9242623 ,  0.8996011 ,  0.86853922,\n",
       "         0.47800687,  0.855677  ,  0.41912329,  0.95175254,  0.86857989,\n",
       "         0.42630913,  0.9045859 ],\n",
       "       [ 0.45973539,  0.9242623 ,  0.8996011 ,  0.86853922,  0.47800687,\n",
       "         0.855677  ,  0.41912329,  0.95175254,  0.86857989,  0.42630913,\n",
       "         0.9045859 ,  0.42740179],\n",
       "       [ 0.9242623 ,  0.8996011 ,  0.86853922,  0.47800687,  0.855677  ,\n",
       "         0.41912329,  0.95175254,  0.86857989,  0.42630913,  0.9045859 ,\n",
       "         0.42740179,  0.93040517],\n",
       "       [ 0.8996011 ,  0.86853922,  0.47800687,  0.855677  ,  0.41912329,\n",
       "         0.95175254,  0.86857989,  0.42630913,  0.9045859 ,  0.42740179,\n",
       "         0.93040517,  0.89228176],\n",
       "       [ 0.86853922,  0.47800687,  0.855677  ,  0.41912329,  0.95175254,\n",
       "         0.86857989,  0.42630913,  0.9045859 ,  0.42740179,  0.93040517,\n",
       "         0.89228176, -0.08132843],\n",
       "       [ 0.47800687,  0.855677  ,  0.41912329,  0.95175254,  0.86857989,\n",
       "         0.42630913,  0.9045859 ,  0.42740179,  0.93040517,  0.89228176,\n",
       "        -0.08132843,  0.87993487],\n",
       "       [ 0.855677  ,  0.41912329,  0.95175254,  0.86857989,  0.42630913,\n",
       "         0.9045859 ,  0.42740179,  0.93040517,  0.89228176, -0.08132843,\n",
       "         0.87993487,  0.41468768],\n",
       "       [ 0.41912329,  0.95175254,  0.86857989,  0.42630913,  0.9045859 ,\n",
       "         0.42740179,  0.93040517,  0.89228176, -0.08132843,  0.87993487,\n",
       "         0.41468768,  0.89362782],\n",
       "       [ 0.95175254,  0.86857989,  0.42630913,  0.9045859 ,  0.42740179,\n",
       "         0.93040517,  0.89228176, -0.08132843,  0.87993487,  0.41468768,\n",
       "         0.89362782,  0.42707186],\n",
       "       [ 0.86857989,  0.42630913,  0.9045859 ,  0.42740179,  0.93040517,\n",
       "         0.89228176, -0.08132843,  0.87993487,  0.41468768,  0.89362782,\n",
       "         0.42707186,  0.8444105 ]])"
      ]
     },
     "execution_count": 56,
     "metadata": {},
     "output_type": "execute_result"
    }
   ],
   "source": [
    "squeezed_data"
   ]
  },
  {
   "cell_type": "code",
   "execution_count": 61,
   "id": "b7c84b19-92ff-4cca-bd6f-cad51e00c856",
   "metadata": {},
   "outputs": [],
   "source": [
    "squeezed_data = np.squeeze(squeezed_data)"
   ]
  },
  {
   "cell_type": "code",
   "execution_count": 63,
   "id": "3f8cb04e-49bd-4576-a2df-3239556726ba",
   "metadata": {},
   "outputs": [
    {
     "data": {
      "text/plain": [
       "(12, 12)"
      ]
     },
     "execution_count": 63,
     "metadata": {},
     "output_type": "execute_result"
    }
   ],
   "source": [
    "squeezed_data.shape"
   ]
  },
  {
   "cell_type": "code",
   "execution_count": 39,
   "id": "a93617c4-8929-49c4-b5a4-26e535aeb15e",
   "metadata": {
    "scrolled": true
   },
   "outputs": [
    {
     "name": "stdout",
     "output_type": "stream",
     "text": [
      "1/1 [==============================] - 0s 25ms/step\n",
      "1/1 [==============================] - 0s 29ms/step\n",
      "1/1 [==============================] - 0s 24ms/step\n",
      "1/1 [==============================] - 0s 24ms/step\n",
      "1/1 [==============================] - 0s 25ms/step\n",
      "1/1 [==============================] - 0s 24ms/step\n",
      "1/1 [==============================] - 0s 25ms/step\n",
      "1/1 [==============================] - 0s 24ms/step\n",
      "1/1 [==============================] - 0s 23ms/step\n",
      "1/1 [==============================] - 0s 23ms/step\n",
      "1/1 [==============================] - 0s 25ms/step\n",
      "1/1 [==============================] - 0s 24ms/step\n",
      "1/1 [==============================] - 0s 23ms/step\n",
      "1/1 [==============================] - 0s 24ms/step\n",
      "1/1 [==============================] - 0s 22ms/step\n",
      "1/1 [==============================] - 0s 19ms/step\n",
      "1/1 [==============================] - 0s 21ms/step\n",
      "1/1 [==============================] - 0s 22ms/step\n",
      "1/1 [==============================] - 0s 23ms/step\n",
      "1/1 [==============================] - 0s 27ms/step\n",
      "1/1 [==============================] - 0s 20ms/step\n",
      "1/1 [==============================] - 0s 20ms/step\n",
      "1/1 [==============================] - 0s 21ms/step\n",
      "1/1 [==============================] - 0s 23ms/step\n",
      "1/1 [==============================] - 0s 15ms/step\n"
     ]
    },
    {
     "data": {
      "image/png": "[encoded data removed]",
      "text/plain": [
       "<Figure size 1400x600 with 1 Axes>"
      ]
     },
     "metadata": {},
     "output_type": "display_data"
    }
   ],
   "source": [
    "from datetime import datetime\n",
    "import matplotlib.dates as mdates\n",
    "\n",
    "future_dates = pd.date_range(start='2024-09-30', end='2026-09-30', freq='ME')\n",
    "num_future_months = len(future_dates)\n",
    "\n",
    "# Start with the last available sequence from test set\n",
    "last_sequence = values_test[-seq_length:]\n",
    "future_predictions = []\n",
    "\n",
    "for _ in range(num_future_months):\n",
    "    input_seq = last_sequence.reshape((1, seq_length, 1))\n",
    "    next_pred = model.predict(input_seq)[0][0]\n",
    "    future_predictions.append(next_pred)\n",
    "    last_sequence = np.append(last_sequence[1:], next_pred)\n",
    "\n",
    "future_predictions_inv = scaler.inverse_transform(np.array(future_predictions).reshape(-1, 1))\n",
    "\n",
    "predicted_dates = test_data['Order Date'].values[seq_length:]\n",
    "true_values = scaler.inverse_transform(values_test.reshape(-1, 1))[seq_length:]\n",
    "predicted_values = scaler.inverse_transform(y_pred)\n",
    "\n",
    "plt.figure(figsize=(14, 6))\n",
    "plt.plot(monthly_df['Order Date'], monthly_df['Total Profit'], label='Actual', color='blue')\n",
    "plt.plot(predicted_dates, predicted_values, label='Predicted (Test)', color='orange')\n",
    "plt.plot(future_dates, future_predictions_inv, label='Future Forecast (Next 10 Years)', color='green', linestyle='--')\n",
    "\n",
    "plt.title(\"Sales Forecast - Actual vs Predicted vs Future\")\n",
    "plt.xlabel(\"Date\")\n",
    "plt.ylabel(\"Total Profit\")\n",
    "plt.legend()\n",
    "plt.grid(True)\n",
    "\n",
    "# Format x-axis for better readability\n",
    "plt.gca().xaxis.set_major_formatter(mdates.DateFormatter('%Y-%m'))\n",
    "plt.gca().xaxis.set_major_locator(mdates.YearLocator())\n",
    "plt.xticks(rotation=45)\n",
    "\n",
    "plt.tight_layout()\n",
    "plt.show()\n"
   ]
  },
  {
   "cell_type": "code",
   "execution_count": null,
   "id": "07435686-4a72-4dd6-8666-0d43298c79a8",
   "metadata": {},
   "outputs": [],
   "source": []
  }
 ],
 "metadata": {
  "kernelspec": {
   "display_name": "Python 3 (ipykernel)",
   "language": "python",
   "name": "python3"
  },
  "language_info": {
   "codemirror_mode": {
    "name": "ipython",
    "version": 3
   },
   "file_extension": ".py",
   "mimetype": "text/x-python",
   "name": "python",
   "nbconvert_exporter": "python",
   "pygments_lexer": "ipython3",
   "version": "3.10.16"
  }
 },
 "nbformat": 4,
 "nbformat_minor": 5
}
