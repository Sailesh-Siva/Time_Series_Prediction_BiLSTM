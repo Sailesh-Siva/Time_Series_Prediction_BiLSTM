{
 "cells": [
  {
   "cell_type": "code",
   "execution_count": null,
   "id": "50742e00-d017-4194-91ab-3ced7d38ca4f",
   "metadata": {},
   "outputs": [],
   "source": [
    "import numpy as np\n",
    "import pandas as pd\n",
    "import tensorflow as tf\n",
    "from tensorflow.keras.models import Sequential\n",
    "from tensorflow.keras.layers import Dense, Bidirectional, LSTM, Dropout\n",
    "from sklearn.preprocessing import MinMaxScaler\n",
    "import matplotlib.pyplot as plt"
   ]
  },
  {
   "cell_type": "code",
   "execution_count": null,
   "id": "da625af0-1afa-4b1e-96d2-288e536b28f4",
   "metadata": {},
   "outputs": [
    {
     "name": "stdout",
     "output_type": "stream",
     "text": [
      "Epoch 1/20\n"
     ]
    }
   ],
   "source": [
    "# Load dataset (Replace with actual file path if needed)\n",
    "data = pd.read_csv(\"sales_5000000.csv\")\n",
    "\n",
    "# Convert Order Date to datetime and sort data\n",
    "data[\"Order Date\"] = pd.to_datetime(data[\"Order Date\"])\n",
    "data = data.sort_values(by=\"Order Date\")\n",
    "\n",
    "# Select relevant columns\n",
    "time_series = data[[\"Order Date\", \"Total Profit\"]].set_index(\"Order Date\")\n",
    "\n",
    "# Normalize the profit values\n",
    "scaler = MinMaxScaler()\n",
    "time_series[\"Total Profit\"] = scaler.fit_transform(time_series)\n",
    "\n",
    "# Create sequences\n",
    "def create_sequences(data, seq_length):\n",
    "    X, y = [], []\n",
    "    for i in range(len(data) - seq_length):\n",
    "        X.append(data[i:i+seq_length])\n",
    "        y.append(data[i+seq_length])\n",
    "    return np.array(X), np.array(y)\n",
    "\n",
    "# Define sequence length\n",
    "seq_length = 20\n",
    "\n",
    "# Prepare data for model\n",
    "values = time_series[\"Total Profit\"].values\n",
    "X, y = create_sequences(values, seq_length)\n",
    "X = X.reshape((X.shape[0], X.shape[1], 1))\n",
    "\n",
    "# Train-test split\n",
    "train_size = int(len(X) * 0.8)\n",
    "X_train, X_test = X[:train_size], X[train_size:]\n",
    "y_train, y_test = y[:train_size], y[train_size:]\n",
    "\n",
    "# Build BiLSTM model\n",
    "model = Sequential([\n",
    "    Bidirectional(LSTM(50, return_sequences=True), input_shape=(seq_length, 1)),\n",
    "    Dropout(0.2),\n",
    "    Bidirectional(LSTM(50)),\n",
    "    Dropout(0.2),\n",
    "    Dense(1)\n",
    "])\n",
    "\n",
    "model.compile(optimizer='adam', loss='mse')\n",
    "\n",
    "# Train model\n",
    "model.fit(X_train, y_train, epochs=20, batch_size=32, validation_data=(X_test, y_test))\n",
    "\n",
    "# Predictions\n",
    "y_pred = model.predict(X_test)\n",
    "\n",
    "# Inverse transform predictions\n",
    "y_test_inv = scaler.inverse_transform(y_test.reshape(-1, 1))\n",
    "y_pred_inv = scaler.inverse_transform(y_pred)\n",
    "\n",
    "# Plot results\n",
    "plt.figure(figsize=(10,5))\n",
    "plt.plot(y_test_inv, label='Actual')\n",
    "plt.plot(y_pred_inv, label='Predicted')\n",
    "plt.legend()\n",
    "plt.show()"
   ]
  },
  {
   "cell_type": "code",
   "execution_count": null,
   "id": "dcdeecf6-b9ba-4e25-a58c-172381d300d5",
   "metadata": {},
   "outputs": [],
   "source": []
  }
 ],
 "metadata": {
  "kernelspec": {
   "display_name": "Python 3 (ipykernel)",
   "language": "python",
   "name": "python3"
  },
  "language_info": {
   "codemirror_mode": {
    "name": "ipython",
    "version": 3
   },
   "file_extension": ".py",
   "mimetype": "text/x-python",
   "name": "python",
   "nbconvert_exporter": "python",
   "pygments_lexer": "ipython3",
   "version": "3.10.16"
  }
 },
 "nbformat": 4,
 "nbformat_minor": 5
}
